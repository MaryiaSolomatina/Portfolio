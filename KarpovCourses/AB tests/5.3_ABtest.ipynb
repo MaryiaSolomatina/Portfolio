{
 "cells": [
  {
   "cell_type": "markdown",
   "id": "9a483568-3022-4279-aacf-229e2ded1c85",
   "metadata": {},
   "source": [
    "# 5.3 AB test"
   ]
  },
  {
   "cell_type": "markdown",
   "id": "ee652447-82eb-496d-8991-68a78924ca3c",
   "metadata": {},
   "source": [
    "**Идея**\n",
    "\n",
    "Вместо того, чтобы заталкивать в тест «поюзерные» CTR, можно сконструировать другую метрику и анализировать ее, но при этом гарантируется (в отличие от сглаженного CTR), что если тест на этой другой метрике «прокрасится» и увидит изменения, значит изменения есть и в метрике исходной (то есть в лайках на пользователя и в пользовательских CTR)\n",
    "\n",
    "**Метрика**\n",
    "\n",
    "* Считается общий CTR в контрольной группе  𝐶𝑇𝑅𝑐𝑜𝑛𝑡𝑟𝑜𝑙=𝑠𝑢𝑚(𝑙𝑖𝑘𝑒𝑠)/𝑠𝑢𝑚(𝑣𝑖𝑒𝑤𝑠) \n",
    "* Расчет в обеих группах поюзерной метрики  𝑙𝑖𝑛𝑒𝑎𝑟𝑖𝑧𝑒𝑑_𝑙𝑖𝑘𝑒𝑠=𝑙𝑖𝑘𝑒𝑠−𝐶𝑇𝑅𝑐𝑜𝑛𝑡𝑟𝑜𝑙∗𝑣𝑖𝑒𝑤𝑠 \n",
    "* После чего сравнивается  t-тестом отличия в группах по метрике 𝑙𝑖𝑛𝑒𝑎𝑟𝑖𝑧𝑒𝑑_𝑙𝑖𝑘𝑒𝑠  \n",
    "\n",
    "Это дает возможность увеличить чувствительность изначальной метрики (или, по крайней мере, не сделать хуже).\n",
    "\n",
    "**Задача**\n",
    "* Проанализировать тест между группами 0 и 3 по метрике линеаризованных лайков. Видно ли отличие? Стало ли 𝑝−𝑣𝑎𝑙𝑢𝑒 меньше?\n",
    "* Проанализировать тест между группами 1 и 2 по метрике линеаризованных лайков. Видно ли отличие? Стало ли 𝑝−𝑣𝑎𝑙𝑢𝑒 меньше?"
   ]
  },
  {
   "cell_type": "markdown",
   "id": "9a7bf3dc-45f5-4c21-b0ce-ddeb4ee0dc98",
   "metadata": {},
   "source": [
    "## Загрузка данных"
   ]
  },
  {
   "cell_type": "code",
   "execution_count": 1,
   "id": "5132505b-99d9-4e02-b811-640b3d1f5428",
   "metadata": {},
   "outputs": [],
   "source": [
    "import pandas as pd\n",
    "import pandahouse as ph\n",
    "import seaborn as sns\n",
    "import matplotlib.pyplot as plt\n",
    "import numpy as np\n",
    "import scipy.stats as stats"
   ]
  },
  {
   "cell_type": "code",
   "execution_count": 2,
   "id": "b059af4e-b401-4e97-9edb-aca2b8be5c7e",
   "metadata": {},
   "outputs": [],
   "source": [
    "connection = {\n",
    "    'host': 'https://clickhouse.lab.karpov.courses',\n",
    "    'database':'simulator_20230320',\n",
    "    'user':'student', \n",
    "    'password':'dpo_python_2020'\n",
    "}\n",
    "\n",
    "query = '''\n",
    "SELECT exp_group, \n",
    "    user_id,\n",
    "    sum(action = 'like') as likes,\n",
    "    sum(action = 'view') as views,\n",
    "    likes/views as ctr\n",
    "FROM {db}.feed_actions \n",
    "WHERE toDate(time) between '2023-03-02' and '2023-03-08'\n",
    "    and exp_group in (0,1,2,3)\n",
    "GROUP BY exp_group, user_id\n",
    "'''\n",
    "\n",
    "df = ph.read_clickhouse(query, connection=connection)"
   ]
  },
  {
   "cell_type": "code",
   "execution_count": 3,
   "id": "53d1257f-c41b-4e74-acdf-a14438590a8b",
   "metadata": {},
   "outputs": [
    {
     "data": {
      "text/html": [
       "<div>\n",
       "<style scoped>\n",
       "    .dataframe tbody tr th:only-of-type {\n",
       "        vertical-align: middle;\n",
       "    }\n",
       "\n",
       "    .dataframe tbody tr th {\n",
       "        vertical-align: top;\n",
       "    }\n",
       "\n",
       "    .dataframe thead th {\n",
       "        text-align: right;\n",
       "    }\n",
       "</style>\n",
       "<table border=\"1\" class=\"dataframe\">\n",
       "  <thead>\n",
       "    <tr style=\"text-align: right;\">\n",
       "      <th></th>\n",
       "      <th>exp_group</th>\n",
       "      <th>user_id</th>\n",
       "      <th>likes</th>\n",
       "      <th>views</th>\n",
       "      <th>ctr</th>\n",
       "    </tr>\n",
       "  </thead>\n",
       "  <tbody>\n",
       "    <tr>\n",
       "      <th>0</th>\n",
       "      <td>3</td>\n",
       "      <td>115383</td>\n",
       "      <td>9</td>\n",
       "      <td>30</td>\n",
       "      <td>0.300000</td>\n",
       "    </tr>\n",
       "    <tr>\n",
       "      <th>1</th>\n",
       "      <td>1</td>\n",
       "      <td>18392</td>\n",
       "      <td>7</td>\n",
       "      <td>32</td>\n",
       "      <td>0.218750</td>\n",
       "    </tr>\n",
       "    <tr>\n",
       "      <th>2</th>\n",
       "      <td>3</td>\n",
       "      <td>123580</td>\n",
       "      <td>13</td>\n",
       "      <td>48</td>\n",
       "      <td>0.270833</td>\n",
       "    </tr>\n",
       "    <tr>\n",
       "      <th>3</th>\n",
       "      <td>2</td>\n",
       "      <td>131473</td>\n",
       "      <td>14</td>\n",
       "      <td>134</td>\n",
       "      <td>0.104478</td>\n",
       "    </tr>\n",
       "    <tr>\n",
       "      <th>4</th>\n",
       "      <td>2</td>\n",
       "      <td>32420</td>\n",
       "      <td>26</td>\n",
       "      <td>128</td>\n",
       "      <td>0.203125</td>\n",
       "    </tr>\n",
       "  </tbody>\n",
       "</table>\n",
       "</div>"
      ],
      "text/plain": [
       "   exp_group  user_id  likes  views       ctr\n",
       "0          3   115383      9     30  0.300000\n",
       "1          1    18392      7     32  0.218750\n",
       "2          3   123580     13     48  0.270833\n",
       "3          2   131473     14    134  0.104478\n",
       "4          2    32420     26    128  0.203125"
      ]
     },
     "execution_count": 3,
     "metadata": {},
     "output_type": "execute_result"
    }
   ],
   "source": [
    "df.head()"
   ]
  },
  {
   "cell_type": "code",
   "execution_count": 4,
   "id": "81f6fc2e-12de-4c8f-a8be-aacd15803abd",
   "metadata": {},
   "outputs": [
    {
     "name": "stdout",
     "output_type": "stream",
     "text": [
      "<class 'pandas.core.frame.DataFrame'>\n",
      "RangeIndex: 40079 entries, 0 to 40078\n",
      "Data columns (total 5 columns):\n",
      " #   Column     Non-Null Count  Dtype  \n",
      "---  ------     --------------  -----  \n",
      " 0   exp_group  40079 non-null  int8   \n",
      " 1   user_id    40079 non-null  uint32 \n",
      " 2   likes      40079 non-null  uint64 \n",
      " 3   views      40079 non-null  uint64 \n",
      " 4   ctr        40079 non-null  float64\n",
      "dtypes: float64(1), int8(1), uint32(1), uint64(2)\n",
      "memory usage: 1.1 MB\n"
     ]
    }
   ],
   "source": [
    "df.info()"
   ]
  },
  {
   "cell_type": "code",
   "execution_count": 5,
   "id": "faf027c7-678b-4851-9b0d-73c36c42257f",
   "metadata": {},
   "outputs": [
    {
     "data": {
      "text/html": [
       "<div>\n",
       "<style scoped>\n",
       "    .dataframe tbody tr th:only-of-type {\n",
       "        vertical-align: middle;\n",
       "    }\n",
       "\n",
       "    .dataframe tbody tr th {\n",
       "        vertical-align: top;\n",
       "    }\n",
       "\n",
       "    .dataframe thead th {\n",
       "        text-align: right;\n",
       "    }\n",
       "</style>\n",
       "<table border=\"1\" class=\"dataframe\">\n",
       "  <thead>\n",
       "    <tr style=\"text-align: right;\">\n",
       "      <th></th>\n",
       "      <th>exp_group</th>\n",
       "      <th>ctr</th>\n",
       "    </tr>\n",
       "  </thead>\n",
       "  <tbody>\n",
       "    <tr>\n",
       "      <th>0</th>\n",
       "      <td>0</td>\n",
       "      <td>9999</td>\n",
       "    </tr>\n",
       "    <tr>\n",
       "      <th>1</th>\n",
       "      <td>1</td>\n",
       "      <td>10079</td>\n",
       "    </tr>\n",
       "    <tr>\n",
       "      <th>2</th>\n",
       "      <td>2</td>\n",
       "      <td>9952</td>\n",
       "    </tr>\n",
       "    <tr>\n",
       "      <th>3</th>\n",
       "      <td>3</td>\n",
       "      <td>10049</td>\n",
       "    </tr>\n",
       "  </tbody>\n",
       "</table>\n",
       "</div>"
      ],
      "text/plain": [
       "   exp_group    ctr\n",
       "0          0   9999\n",
       "1          1  10079\n",
       "2          2   9952\n",
       "3          3  10049"
      ]
     },
     "execution_count": 5,
     "metadata": {},
     "output_type": "execute_result"
    }
   ],
   "source": [
    "# количество пользователей в группах\n",
    "df.groupby('exp_group').ctr.count().reset_index()"
   ]
  },
  {
   "cell_type": "markdown",
   "id": "0e03ae4d-bdff-4c11-a06f-3e4883a1704c",
   "metadata": {},
   "source": [
    "## Проведение эксперимента"
   ]
  },
  {
   "cell_type": "code",
   "execution_count": 6,
   "id": "10af2bbc-dcb1-4854-8135-9c4e819dec8f",
   "metadata": {},
   "outputs": [
    {
     "name": "stdout",
     "output_type": "stream",
     "text": [
      "CTR в контрольной группе №0 =  0.20824\n",
      "CTR в контрольной группе №1 =  0.20803\n"
     ]
    }
   ],
   "source": [
    "# рассчет общего CTR в контрольных группах\n",
    "ctr_0_control = sum(df[df.exp_group == 0]['likes'])/ sum(df[df.exp_group == 0]['views'])\n",
    "ctr_1_control = sum(df[df.exp_group == 1]['likes'])/ sum(df[df.exp_group == 1]['views'])\n",
    "print('CTR в контрольной группе №0 = ', round(ctr_0_control,5))\n",
    "print('CTR в контрольной группе №1 = ', round(ctr_1_control,5))"
   ]
  },
  {
   "cell_type": "code",
   "execution_count": 7,
   "id": "38b472ac-6ae2-4942-a163-da1613e4998f",
   "metadata": {},
   "outputs": [],
   "source": [
    "# функция для рассчета линеаризированных лайков\n",
    "def get_linearized_likes(user_likes, user_views, ctr_control):\n",
    "    linearized_like = user_likes - ctr_control * user_views\n",
    "    return linearized_like"
   ]
  },
  {
   "cell_type": "code",
   "execution_count": 8,
   "id": "cbd31fb2-47eb-4d68-8d30-f5b713c703ba",
   "metadata": {},
   "outputs": [],
   "source": [
    "# разделение данных на исследуемые группы (0,1 - контрольные группы; 3,2 - целевые группы)\n",
    "group_03 = df[(df.exp_group == 0) | (df.exp_group == 3)].copy()\n",
    "group_12 = df[(df.exp_group == 1) | (df.exp_group == 2)].copy()"
   ]
  },
  {
   "cell_type": "markdown",
   "id": "537a2e90-3925-440c-a4e2-490a58a9b1ea",
   "metadata": {},
   "source": [
    "### Группа №0 и №3 (0 - контрольная, 3 - целевая)"
   ]
  },
  {
   "cell_type": "code",
   "execution_count": 9,
   "id": "6deb91f0-8ec5-42a0-9e2f-efddf92007ae",
   "metadata": {},
   "outputs": [],
   "source": [
    "# применение функции для посчета линеаризированных лайков\n",
    "group_03['linearized_like'] = group_03.apply(lambda x: get_linearized_likes(x['likes'], x['views'], ctr_0_control), axis=1)"
   ]
  },
  {
   "cell_type": "code",
   "execution_count": 10,
   "id": "12bc1e91-6b61-4366-8e79-7958242067d5",
   "metadata": {},
   "outputs": [
    {
     "data": {
      "image/png": "[encoded data removed]",
      "text/plain": [
       "<Figure size 1440x576 with 2 Axes>"
      ]
     },
     "metadata": {},
     "output_type": "display_data"
    }
   ],
   "source": [
    "# распределение линеаризированных лайков на гистограмме\n",
    "sns.set(rc={'figure.figsize':(20,8)})\n",
    "sns.histplot(data = group_03, \n",
    "              x = 'linearized_like', \n",
    "              hue = 'exp_group',\n",
    "              palette = ['r', 'b'],\n",
    "              alpha = 0.5,\n",
    "              kde = False,\n",
    "            ax=plt.subplot(1, 2, 1))\\\n",
    "   .set(title = 'Распределение линеаризированных лайков для групп №0 и №3')\n",
    "# распределение CTR на гистограмме\n",
    "sns.histplot(data = group_03, \n",
    "              x = 'ctr', \n",
    "              hue = 'exp_group',\n",
    "              palette = ['r', 'b'],\n",
    "              alpha = 0.5,\n",
    "              kde = False,\n",
    "            ax=plt.subplot(1, 2, 2))\\\n",
    "   .set(title = 'Распределение CTR для групп №0 и №3');"
   ]
  },
  {
   "cell_type": "markdown",
   "id": "3194a24b-9d84-4cff-adec-f7e515dd740b",
   "metadata": {},
   "source": [
    "Из графиков видно, что распределение метрики линеаризированных лайков более равномерное и похоже на нормальное, чем метрика CTR, в которой много значений меняющих форму распределения от нормального."
   ]
  },
  {
   "cell_type": "code",
   "execution_count": 11,
   "id": "f7272bae-b828-48e5-9f0f-7f481e225906",
   "metadata": {},
   "outputs": [
    {
     "data": {
      "text/plain": [
       "Ttest_indResult(statistic=-15.214995460903827, pvalue=5.4914249479690016e-52)"
      ]
     },
     "execution_count": 11,
     "metadata": {},
     "output_type": "execute_result"
    }
   ],
   "source": [
    "# расчет t-теста для группы №0-3 для метрики линеаризированных лайков\n",
    "stats.ttest_ind(group_03[group_03['exp_group'] == 0].linearized_like,\n",
    "                group_03[group_03['exp_group'] == 3].linearized_like,\n",
    "                equal_var=False)"
   ]
  },
  {
   "cell_type": "code",
   "execution_count": 12,
   "id": "20f004ed-3351-41e3-a0b2-296e85965530",
   "metadata": {},
   "outputs": [
    {
     "data": {
      "text/plain": [
       "Ttest_indResult(statistic=-13.895802293872993, pvalue=1.071239841805842e-43)"
      ]
     },
     "execution_count": 12,
     "metadata": {},
     "output_type": "execute_result"
    }
   ],
   "source": [
    "# расчет t-теста для группы №0-3 для метрики CTR\n",
    "stats.ttest_ind(group_03[group_03['exp_group'] == 0].ctr,\n",
    "                group_03[group_03['exp_group'] == 3].ctr)"
   ]
  },
  {
   "cell_type": "code",
   "execution_count": 13,
   "id": "13039034-1411-4e61-9a6a-cabb936cc742",
   "metadata": {},
   "outputs": [
    {
     "data": {
      "text/plain": [
       "True"
      ]
     },
     "execution_count": 13,
     "metadata": {},
     "output_type": "execute_result"
    }
   ],
   "source": [
    "# linearized_like(pvalue) < ctr(pvalue)\n",
    "5.4914249479690016e-52 < 1.071239841805842e-43"
   ]
  },
  {
   "cell_type": "markdown",
   "id": "132394fb-4c14-4293-9208-5ca4f03cf36e",
   "metadata": {},
   "source": [
    "Значения t-теста на обеих метриках крайне близки к 0, что говорит о том, что группы отличны между собой. Однако значение CTR оказалось все таки немного больше метрики линеаризированных лайков"
   ]
  },
  {
   "cell_type": "markdown",
   "id": "d960b3d9-964f-4de4-b783-794c6975406e",
   "metadata": {},
   "source": [
    "### Группа №1 и №2 (1 - контрольная, 2 - целевая)"
   ]
  },
  {
   "cell_type": "code",
   "execution_count": 14,
   "id": "550b15fc-24ef-4d06-91fd-76ed55fc9d75",
   "metadata": {},
   "outputs": [],
   "source": [
    "# применение функции для посчета линеаризированных лайков\n",
    "group_12['linearized_like'] = group_12.apply(lambda x: get_linearized_likes(x['likes'], x['views'], ctr_1_control), axis=1)"
   ]
  },
  {
   "cell_type": "code",
   "execution_count": 15,
   "id": "4579caef-e80b-402f-af37-3755919f0eca",
   "metadata": {},
   "outputs": [
    {
     "data": {
      "image/png": "[encoded data removed]",
      "text/plain": [
       "<Figure size 1440x576 with 2 Axes>"
      ]
     },
     "metadata": {},
     "output_type": "display_data"
    }
   ],
   "source": [
    "# распределение линеаризированных лайков на гистограмме\n",
    "sns.set(rc={'figure.figsize':(20,8)})\n",
    "sns.histplot(data = group_12, \n",
    "              x = 'linearized_like', \n",
    "              hue = 'exp_group',\n",
    "              palette = ['r', 'b'],\n",
    "              alpha = 0.5,\n",
    "              kde = False,\n",
    "            ax=plt.subplot(1, 2, 1))\\\n",
    "   .set(title = 'Распределение линеаризированных лайков для групп №1 и №2')\n",
    "# распределение CTR на гистограмме\n",
    "sns.histplot(data = group_12, \n",
    "              x = 'ctr', \n",
    "              hue = 'exp_group',\n",
    "              palette = ['r', 'b'],\n",
    "              alpha = 0.5,\n",
    "              kde = False,\n",
    "            ax=plt.subplot(1, 2, 2))\\\n",
    "   .set(title = 'Распределение CTR для групп №1 и №2');"
   ]
  },
  {
   "cell_type": "markdown",
   "id": "f2f711aa-fc3a-43a6-8c9d-6e529abe5bbc",
   "metadata": {},
   "source": [
    "Из графиков видно, что метрика линеаризированных лайков имеет такое же не нормально распределение как и CTR, однако для 2ой группы значения метрики линеаризированных лайков стали менее централизированными, рассеявшись по краям распределния, что менее выражено на показателе 1ой группы."
   ]
  },
  {
   "cell_type": "code",
   "execution_count": 16,
   "id": "f5e4f5e6-0918-42fc-881d-3a4feaae8ebe",
   "metadata": {},
   "outputs": [
    {
     "data": {
      "text/plain": [
       "Ttest_indResult(statistic=6.122579994775972, pvalue=9.439432187037712e-10)"
      ]
     },
     "execution_count": 16,
     "metadata": {},
     "output_type": "execute_result"
    }
   ],
   "source": [
    "# расчет t-теста для группы №1-2 для метрики линеаризированных лайков\n",
    "stats.ttest_ind(group_12[group_12['exp_group'] == 1].linearized_like,\n",
    "                group_12[group_12['exp_group'] == 2].linearized_like,\n",
    "                equal_var=False)"
   ]
  },
  {
   "cell_type": "code",
   "execution_count": 17,
   "id": "25a0f7fd-147a-47f8-bc9b-2a885bf17084",
   "metadata": {},
   "outputs": [
    {
     "data": {
      "text/plain": [
       "Ttest_indResult(statistic=0.7116545895251319, pvalue=0.4766869824114077)"
      ]
     },
     "execution_count": 17,
     "metadata": {},
     "output_type": "execute_result"
    }
   ],
   "source": [
    "# расчет t-теста для группы №1-2 для метрики CTR\n",
    "stats.ttest_ind(group_12[group_12['exp_group'] == 1].ctr,\n",
    "                group_12[group_12['exp_group'] == 2].ctr)"
   ]
  },
  {
   "cell_type": "markdown",
   "id": "8627ff49-d511-48a5-928e-e40b8c1250bf",
   "metadata": {},
   "source": [
    "Для группы №1-2 показатель pvalue уменьшился в разы, достигнув околонулевого значения, изменив толкование результата - теперь группы отличны между собой."
   ]
  },
  {
   "cell_type": "markdown",
   "id": "996663c2-15c9-4b7e-b526-91bb201bc94c",
   "metadata": {},
   "source": [
    "**Общий вывод**\n",
    "\n",
    "Для одной эксперементальной группы применение новой метрики не сильно поменяло итоговую картину, однако для второй польностью измнило результат."
   ]
  }
 ],
 "metadata": {
  "kernelspec": {
   "display_name": "Python 3 (ipykernel)",
   "language": "python",
   "name": "python3"
  },
  "language_info": {
   "codemirror_mode": {
    "name": "ipython",
    "version": 3
   },
   "file_extension": ".py",
   "mimetype": "text/x-python",
   "name": "python",
   "nbconvert_exporter": "python",
   "pygments_lexer": "ipython3",
   "version": "3.8.10"
  }
 },
 "nbformat": 4,
 "nbformat_minor": 5
}
