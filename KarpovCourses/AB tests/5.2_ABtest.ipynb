{
 "cells": [
  {
   "cell_type": "markdown",
   "id": "5c952b8b-b754-4b89-bc3f-5a1e595eeafc",
   "metadata": {},
   "source": [
    "# 5.1 AB test"
   ]
  },
  {
   "cell_type": "markdown",
   "id": "8b35c0e0-27fc-4033-88f7-0a21dbbc743b",
   "metadata": {},
   "source": [
    "Эксперимент проходил с 2023-03-02 по 2023-03-08 включительно. Для эксперимента были задействованы 2 и 1 группы. В группе 2 был использован один из новых алгоритмов рекомендации постов, группа 1 использовалась в качестве контроля. Основная гипотеза заключается в том, что новый алгоритм во 2-й группе приведет к увеличению CTR. \n",
    "\n",
    "**Задача** — проанализировать данные АB-теста\n",
    "\n",
    "* Выбрать метод анализа и сравнить CTR в двух группах (мы разбирали t-тест, Пуассоновский бутстреп, тест Манна-Уитни, t-тест на сглаженном ctr (α=5) а также t-тест и тест Манна-Уитни поверх бакетного преобразования).\n",
    "* Сравнить данные этими тестами. А еще посмотреть на распределения глазами. Почему тесты сработали так как сработали? \n",
    "* Описать потенциальную ситуацию, когда такое изменение могло произойти. \n",
    "* Написать рекомендацию, стоит ли раскатывать новый алгоритм на всех новых пользователей или нет."
   ]
  },
  {
   "cell_type": "markdown",
   "id": "e8218c9f-87da-46d9-8477-7bf0d335ae76",
   "metadata": {},
   "source": [
    "## Загрузка данных"
   ]
  },
  {
   "cell_type": "code",
   "execution_count": 1,
   "id": "174ed5cc-e554-453e-94ce-3623156a22d9",
   "metadata": {},
   "outputs": [],
   "source": [
    "import pandas as pd\n",
    "import pandahouse as ph\n",
    "import seaborn as sns\n",
    "import matplotlib.pyplot as plt\n",
    "import numpy as np\n",
    "import scipy.stats as stats"
   ]
  },
  {
   "cell_type": "code",
   "execution_count": 2,
   "id": "bc1984c1-f514-4eef-902c-5b27909c5ca3",
   "metadata": {},
   "outputs": [],
   "source": [
    "connection = {\n",
    "    'host': 'https://clickhouse.lab.karpov.courses',\n",
    "    'database':'simulator_20230320',\n",
    "    'user':'student', \n",
    "    'password':'dpo_python_2020'\n",
    "}\n",
    "\n",
    "query = '''\n",
    "SELECT exp_group, \n",
    "    user_id,\n",
    "    sum(action = 'like') as likes,\n",
    "    sum(action = 'view') as views,\n",
    "    likes/views as ctr\n",
    "FROM {db}.feed_actions \n",
    "WHERE toDate(time) between '2023-03-02' and '2023-03-08'\n",
    "    and exp_group in (1,2)\n",
    "GROUP BY exp_group, user_id\n",
    "'''\n",
    "df = ph.read_clickhouse(query, connection=connection)"
   ]
  },
  {
   "cell_type": "code",
   "execution_count": 3,
   "id": "ffe67d8d-8cc8-47ca-8b03-5b70f0d2780c",
   "metadata": {},
   "outputs": [
    {
     "data": {
      "text/html": [
       "<div>\n",
       "<style scoped>\n",
       "    .dataframe tbody tr th:only-of-type {\n",
       "        vertical-align: middle;\n",
       "    }\n",
       "\n",
       "    .dataframe tbody tr th {\n",
       "        vertical-align: top;\n",
       "    }\n",
       "\n",
       "    .dataframe thead th {\n",
       "        text-align: right;\n",
       "    }\n",
       "</style>\n",
       "<table border=\"1\" class=\"dataframe\">\n",
       "  <thead>\n",
       "    <tr style=\"text-align: right;\">\n",
       "      <th></th>\n",
       "      <th>exp_group</th>\n",
       "      <th>user_id</th>\n",
       "      <th>likes</th>\n",
       "      <th>views</th>\n",
       "      <th>ctr</th>\n",
       "    </tr>\n",
       "  </thead>\n",
       "  <tbody>\n",
       "    <tr>\n",
       "      <th>0</th>\n",
       "      <td>1</td>\n",
       "      <td>109963</td>\n",
       "      <td>3</td>\n",
       "      <td>15</td>\n",
       "      <td>0.200000</td>\n",
       "    </tr>\n",
       "    <tr>\n",
       "      <th>1</th>\n",
       "      <td>1</td>\n",
       "      <td>26117</td>\n",
       "      <td>32</td>\n",
       "      <td>141</td>\n",
       "      <td>0.226950</td>\n",
       "    </tr>\n",
       "    <tr>\n",
       "      <th>2</th>\n",
       "      <td>1</td>\n",
       "      <td>138232</td>\n",
       "      <td>18</td>\n",
       "      <td>73</td>\n",
       "      <td>0.246575</td>\n",
       "    </tr>\n",
       "    <tr>\n",
       "      <th>3</th>\n",
       "      <td>1</td>\n",
       "      <td>26295</td>\n",
       "      <td>33</td>\n",
       "      <td>122</td>\n",
       "      <td>0.270492</td>\n",
       "    </tr>\n",
       "    <tr>\n",
       "      <th>4</th>\n",
       "      <td>1</td>\n",
       "      <td>18392</td>\n",
       "      <td>7</td>\n",
       "      <td>32</td>\n",
       "      <td>0.218750</td>\n",
       "    </tr>\n",
       "  </tbody>\n",
       "</table>\n",
       "</div>"
      ],
      "text/plain": [
       "   exp_group  user_id  likes  views       ctr\n",
       "0          1   109963      3     15  0.200000\n",
       "1          1    26117     32    141  0.226950\n",
       "2          1   138232     18     73  0.246575\n",
       "3          1    26295     33    122  0.270492\n",
       "4          1    18392      7     32  0.218750"
      ]
     },
     "execution_count": 3,
     "metadata": {},
     "output_type": "execute_result"
    }
   ],
   "source": [
    "# просмотр данных\n",
    "df.head()"
   ]
  },
  {
   "cell_type": "code",
   "execution_count": 4,
   "id": "d90ed2b9-6dd3-4486-b382-dd3cbd6c4853",
   "metadata": {},
   "outputs": [
    {
     "name": "stdout",
     "output_type": "stream",
     "text": [
      "<class 'pandas.core.frame.DataFrame'>\n",
      "RangeIndex: 20031 entries, 0 to 20030\n",
      "Data columns (total 5 columns):\n",
      " #   Column     Non-Null Count  Dtype  \n",
      "---  ------     --------------  -----  \n",
      " 0   exp_group  20031 non-null  int8   \n",
      " 1   user_id    20031 non-null  uint32 \n",
      " 2   likes      20031 non-null  uint64 \n",
      " 3   views      20031 non-null  uint64 \n",
      " 4   ctr        20031 non-null  float64\n",
      "dtypes: float64(1), int8(1), uint32(1), uint64(2)\n",
      "memory usage: 567.4 KB\n"
     ]
    }
   ],
   "source": [
    "# краткая информация о данных\n",
    "df.info()"
   ]
  },
  {
   "cell_type": "code",
   "execution_count": 5,
   "id": "afdfba7d-b46b-43a3-b14e-2bd8bdea9da6",
   "metadata": {},
   "outputs": [
    {
     "data": {
      "text/html": [
       "<div>\n",
       "<style scoped>\n",
       "    .dataframe tbody tr th:only-of-type {\n",
       "        vertical-align: middle;\n",
       "    }\n",
       "\n",
       "    .dataframe tbody tr th {\n",
       "        vertical-align: top;\n",
       "    }\n",
       "\n",
       "    .dataframe thead th {\n",
       "        text-align: right;\n",
       "    }\n",
       "</style>\n",
       "<table border=\"1\" class=\"dataframe\">\n",
       "  <thead>\n",
       "    <tr style=\"text-align: right;\">\n",
       "      <th></th>\n",
       "      <th>user_id</th>\n",
       "      <th>likes</th>\n",
       "      <th>views</th>\n",
       "      <th>ctr</th>\n",
       "    </tr>\n",
       "    <tr>\n",
       "      <th>exp_group</th>\n",
       "      <th></th>\n",
       "      <th></th>\n",
       "      <th></th>\n",
       "      <th></th>\n",
       "    </tr>\n",
       "  </thead>\n",
       "  <tbody>\n",
       "    <tr>\n",
       "      <th>1</th>\n",
       "      <td>10079</td>\n",
       "      <td>10079</td>\n",
       "      <td>10079</td>\n",
       "      <td>10079</td>\n",
       "    </tr>\n",
       "    <tr>\n",
       "      <th>2</th>\n",
       "      <td>9952</td>\n",
       "      <td>9952</td>\n",
       "      <td>9952</td>\n",
       "      <td>9952</td>\n",
       "    </tr>\n",
       "  </tbody>\n",
       "</table>\n",
       "</div>"
      ],
      "text/plain": [
       "           user_id  likes  views    ctr\n",
       "exp_group                              \n",
       "1            10079  10079  10079  10079\n",
       "2             9952   9952   9952   9952"
      ]
     },
     "execution_count": 5,
     "metadata": {},
     "output_type": "execute_result"
    }
   ],
   "source": [
    "# количетство пользователей в группах\n",
    "df.groupby('exp_group').count()"
   ]
  },
  {
   "cell_type": "markdown",
   "id": "ac0ad33f-71a3-4d4b-a676-b868bcd97c5b",
   "metadata": {},
   "source": [
    "Количество пользователей в группе 1 = 10 079 чел., в группе 2 = 9 952 чел."
   ]
  },
  {
   "cell_type": "code",
   "execution_count": 6,
   "id": "5f34dbaf-50ce-499d-b007-a79728050e60",
   "metadata": {},
   "outputs": [
    {
     "data": {
      "text/html": [
       "<div>\n",
       "<style scoped>\n",
       "    .dataframe tbody tr th:only-of-type {\n",
       "        vertical-align: middle;\n",
       "    }\n",
       "\n",
       "    .dataframe tbody tr th {\n",
       "        vertical-align: top;\n",
       "    }\n",
       "\n",
       "    .dataframe thead th {\n",
       "        text-align: right;\n",
       "    }\n",
       "</style>\n",
       "<table border=\"1\" class=\"dataframe\">\n",
       "  <thead>\n",
       "    <tr style=\"text-align: right;\">\n",
       "      <th></th>\n",
       "      <th>exp_group</th>\n",
       "      <th>ctr</th>\n",
       "    </tr>\n",
       "  </thead>\n",
       "  <tbody>\n",
       "    <tr>\n",
       "      <th>0</th>\n",
       "      <td>1</td>\n",
       "      <td>0.215605</td>\n",
       "    </tr>\n",
       "    <tr>\n",
       "      <th>1</th>\n",
       "      <td>2</td>\n",
       "      <td>0.214419</td>\n",
       "    </tr>\n",
       "  </tbody>\n",
       "</table>\n",
       "</div>"
      ],
      "text/plain": [
       "   exp_group       ctr\n",
       "0          1  0.215605\n",
       "1          2  0.214419"
      ]
     },
     "execution_count": 6,
     "metadata": {},
     "output_type": "execute_result"
    }
   ],
   "source": [
    "# средний CTR для каждой группы\n",
    "df.groupby('exp_group').ctr.mean().reset_index()"
   ]
  },
  {
   "cell_type": "code",
   "execution_count": 7,
   "id": "7ae66273-b088-4ba8-bb80-114d4996e4a2",
   "metadata": {},
   "outputs": [
    {
     "data": {
      "image/png": "[encoded data removed]",
      "text/plain": [
       "<Figure size 432x288 with 1 Axes>"
      ]
     },
     "metadata": {
      "needs_background": "light"
     },
     "output_type": "display_data"
    }
   ],
   "source": [
    "# распределение CTR на гистограмме\n",
    "sns.histplot(data = df, \n",
    "              x='ctr', \n",
    "              hue='exp_group',\n",
    "              palette = ['r', 'b'],\n",
    "              alpha=0.5,\n",
    "              kde=False)\\\n",
    "   .set(title = 'Распределение CTR, исследуемых групп');"
   ]
  },
  {
   "cell_type": "markdown",
   "id": "f6576941-b3c5-4260-940e-6baee975d84e",
   "metadata": {},
   "source": [
    "На графике видно, что распределение CTR первой группы выглядит нормальным, однако во второй группе присутствует обвал на месте пика первой группы, график второй групы не является нормальным распределением"
   ]
  },
  {
   "cell_type": "markdown",
   "id": "70ec8f55-ea9c-4991-bcc3-802787ff626a",
   "metadata": {},
   "source": [
    "## Применение теста Манна-Уитни"
   ]
  },
  {
   "cell_type": "code",
   "execution_count": 8,
   "id": "9e93a670-7b97-44b3-8a00-734e54029890",
   "metadata": {},
   "outputs": [
    {
     "data": {
      "text/plain": [
       "MannwhitneyuResult(statistic=56601260.5, pvalue=6.0376484617779035e-56)"
      ]
     },
     "execution_count": 8,
     "metadata": {},
     "output_type": "execute_result"
    }
   ],
   "source": [
    "# проведение теста в Jupyter Notebook\n",
    "stats.mannwhitneyu(df[df.exp_group == 1].ctr,\n",
    "                df[df.exp_group == 2].ctr,\n",
    "                 alternative = 'two-sided')"
   ]
  },
  {
   "cell_type": "markdown",
   "id": "70054d02-18cd-43f6-829b-66da88cc085d",
   "metadata": {},
   "source": [
    "По результатам применения теста  значение pvalue близко к 0 - группы отличны между собой"
   ]
  },
  {
   "cell_type": "code",
   "execution_count": 9,
   "id": "e4b74df6-f75b-4253-a5d4-8c5c4365c020",
   "metadata": {},
   "outputs": [
    {
     "data": {
      "text/html": [
       "<div>\n",
       "<style scoped>\n",
       "    .dataframe tbody tr th:only-of-type {\n",
       "        vertical-align: middle;\n",
       "    }\n",
       "\n",
       "    .dataframe tbody tr th {\n",
       "        vertical-align: top;\n",
       "    }\n",
       "\n",
       "    .dataframe thead th {\n",
       "        text-align: right;\n",
       "    }\n",
       "</style>\n",
       "<table border=\"1\" class=\"dataframe\">\n",
       "  <thead>\n",
       "    <tr style=\"text-align: right;\">\n",
       "      <th></th>\n",
       "      <th>statistic</th>\n",
       "      <th>p_value</th>\n",
       "    </tr>\n",
       "  </thead>\n",
       "  <tbody>\n",
       "    <tr>\n",
       "      <th>0</th>\n",
       "      <td>56601260.5</td>\n",
       "      <td>1.655343e-13</td>\n",
       "    </tr>\n",
       "  </tbody>\n",
       "</table>\n",
       "</div>"
      ],
      "text/plain": [
       "    statistic       p_value\n",
       "0  56601260.5  1.655343e-13"
      ]
     },
     "execution_count": 9,
     "metadata": {},
     "output_type": "execute_result"
    }
   ],
   "source": [
    "# проведение теста Манна-Уитни в ClickHouse\n",
    "query = \"\"\"\n",
    "WITH mannWhitneyUTest(ctr, exp_index) as mw\n",
    "\n",
    "SELECT \n",
    "    tupleElement(mw,1) AS statistic,\n",
    "    tupleElement(mw,2) AS p_value\n",
    "FROM (\n",
    "    SELECT \n",
    "        exp_group,\n",
    "        CASE WHEN exp_group = 1 THEN 0 ELSE 1 END AS exp_index,\n",
    "        user_id,\n",
    "        SUM(action = 'like') AS likes,\n",
    "        SUM(action = 'view') AS views,\n",
    "        likes / views AS ctr\n",
    "    FROM simulator_20230320.feed_actions\n",
    "    WHERE toDate(time) BETWEEN '2023-03-02' and '2023-03-08'\n",
    "      AND exp_group in (1, 2)\n",
    "    GROUP BY user_id, exp_group\n",
    ")\n",
    "\"\"\"\n",
    "ph.read_clickhouse(query, connection=connection)"
   ]
  },
  {
   "cell_type": "markdown",
   "id": "c3fc2a25-b454-4c93-88f1-4877b6967c2d",
   "metadata": {},
   "source": [
    "При примении теста Манна-Уитни в ClickHouse значение статистики осталось таким же, а значение p-value изменилось, однако оно также довольно близко к 0, что означает отличие данных выборок между собой"
   ]
  },
  {
   "cell_type": "markdown",
   "id": "349e4ce0-00d2-4c80-b9a9-33a53ac6a431",
   "metadata": {},
   "source": [
    "## Сглаживание CTR"
   ]
  },
  {
   "cell_type": "code",
   "execution_count": 10,
   "id": "69dabc55-9a6a-42db-9677-438836b5a0eb",
   "metadata": {},
   "outputs": [],
   "source": [
    "# создание функции для расчета сглаженного CTR\n",
    "def get_smoothed_ctr(users_likes, users_views, global_ctr, alpha):\n",
    "    smoothed_ctr = (users_likes + alpha * global_ctr) / (users_views + alpha)\n",
    "    return smoothed_ctr"
   ]
  },
  {
   "cell_type": "code",
   "execution_count": 11,
   "id": "bd54ecc7-3ab0-4db0-81e8-28c7b4019fb1",
   "metadata": {},
   "outputs": [],
   "source": [
    "# посчет глобальных CTR для каждой групп\n",
    "global_ctr_1 = df[df.exp_group == 1].likes.sum() / df[df.exp_group == 1].views.sum()\n",
    "global_ctr_2 = df[df.exp_group == 2].likes.sum() / df[df.exp_group == 2].views.sum()"
   ]
  },
  {
   "cell_type": "code",
   "execution_count": 12,
   "id": "350b2b5f-5fa3-4979-b814-d57e1973d3f4",
   "metadata": {},
   "outputs": [],
   "source": [
    "# копирование данных группы 1 в отдельный датафрейм \n",
    "group_1 = df[df.exp_group == 1].copy()"
   ]
  },
  {
   "cell_type": "code",
   "execution_count": 13,
   "id": "135c9bb8-d898-44cc-a5d8-b52da34c9010",
   "metadata": {},
   "outputs": [
    {
     "data": {
      "image/png": "[encoded data removed]",
      "text/plain": [
       "<Figure size 432x288 with 1 Axes>"
      ]
     },
     "metadata": {
      "needs_background": "light"
     },
     "output_type": "display_data"
    }
   ],
   "source": [
    "# построение гистограммы распределения обычного CTR для группы 1\n",
    "sns.histplot(group_1.ctr, alpha=0.5, kde=False).set(title='Распределение CTR для первой группы');"
   ]
  },
  {
   "cell_type": "code",
   "execution_count": 14,
   "id": "5bfcb6cd-04cb-447f-81af-dda3e73418f6",
   "metadata": {},
   "outputs": [],
   "source": [
    "# сглаживание CTR для первой группы \n",
    "group_1['smoothed_ctr'] = df.apply(lambda x: get_smoothed_ctr(x['likes'], x['views'], global_ctr_1, 5), axis=1)"
   ]
  },
  {
   "cell_type": "code",
   "execution_count": 15,
   "id": "dab141f1-a191-4457-9abd-b1b86d0ee377",
   "metadata": {},
   "outputs": [
    {
     "data": {
      "image/png": "[encoded data removed]",
      "text/plain": [
       "<Figure size 432x288 with 1 Axes>"
      ]
     },
     "metadata": {
      "needs_background": "light"
     },
     "output_type": "display_data"
    }
   ],
   "source": [
    "# построение графика сглаженного CTR для первой группы\n",
    "sns.histplot(group_1.smoothed_ctr, kde = False).set(title='Распределение сглаженного CTR для первой группы');"
   ]
  },
  {
   "cell_type": "markdown",
   "id": "4b25cfe3-67bc-4d89-b234-8b7e67384503",
   "metadata": {},
   "source": [
    "Повторим эти же действия для второй группы"
   ]
  },
  {
   "cell_type": "code",
   "execution_count": 16,
   "id": "f3cb8ed9-8b18-4435-bb28-d0df8ac0a579",
   "metadata": {},
   "outputs": [],
   "source": [
    "# копирование данных группы 2 в отдельный датафрейм \n",
    "group_2 = df[df.exp_group == 2].copy()"
   ]
  },
  {
   "cell_type": "code",
   "execution_count": 17,
   "id": "03f79711-6a74-4669-87e5-d452ba22f60d",
   "metadata": {},
   "outputs": [
    {
     "data": {
      "image/png": "[encoded data removed]",
      "text/plain": [
       "<Figure size 432x288 with 1 Axes>"
      ]
     },
     "metadata": {
      "needs_background": "light"
     },
     "output_type": "display_data"
    }
   ],
   "source": [
    "# построение гистограммы распределения обычного CTR для группы 2\n",
    "sns.histplot(group_2.ctr, alpha=0.5, kde=False).set(title='Распределение CTR для второй группы');"
   ]
  },
  {
   "cell_type": "code",
   "execution_count": 18,
   "id": "4fa4b6fb-1e35-4c39-9429-906bf7058410",
   "metadata": {},
   "outputs": [],
   "source": [
    "# сглаживание CTR для второй группы \n",
    "group_2['smoothed_ctr'] = df.apply(lambda x: get_smoothed_ctr(x['likes'], x['views'], global_ctr_2, 5), axis=1)"
   ]
  },
  {
   "cell_type": "code",
   "execution_count": 19,
   "id": "545cd494-9427-4669-8da3-45e698b74563",
   "metadata": {},
   "outputs": [
    {
     "data": {
      "image/png": "[encoded data removed]",
      "text/plain": [
       "<Figure size 432x288 with 1 Axes>"
      ]
     },
     "metadata": {
      "needs_background": "light"
     },
     "output_type": "display_data"
    }
   ],
   "source": [
    "# построение графика сглаженного CTR для второй группы\n",
    "sns.histplot(group_2.smoothed_ctr, kde = False).set(title='Распределение сглаженного CTR для второй группы');"
   ]
  },
  {
   "cell_type": "markdown",
   "id": "13d6395e-c81d-43f8-b083-4b3a98097e55",
   "metadata": {},
   "source": [
    "После применения сглаживания результаты не стали более похожими на нормальное распределение.\n",
    "Применим тест Манна-Уитни"
   ]
  },
  {
   "cell_type": "code",
   "execution_count": 20,
   "id": "df902d5d-cb59-4237-b429-199bddd88b4b",
   "metadata": {},
   "outputs": [
    {
     "data": {
      "text/plain": [
       "MannwhitneyuResult(statistic=56925125.0, pvalue=1.6163964114270227e-61)"
      ]
     },
     "execution_count": 20,
     "metadata": {},
     "output_type": "execute_result"
    }
   ],
   "source": [
    "# тест Манна-Уитни\n",
    "stats.mannwhitneyu(group_1.smoothed_ctr,\n",
    "                group_2.smoothed_ctr,\n",
    "                 alternative = 'two-sided')"
   ]
  },
  {
   "cell_type": "code",
   "execution_count": 21,
   "id": "0932d066-5431-4b94-963e-3c2df9d03307",
   "metadata": {},
   "outputs": [
    {
     "data": {
      "text/plain": [
       "Ttest_indResult(statistic=2.2841320431616983, pvalue=0.0223769815558559)"
      ]
     },
     "execution_count": 21,
     "metadata": {},
     "output_type": "execute_result"
    }
   ],
   "source": [
    "# t-тест \n",
    "stats.ttest_ind(group_1.smoothed_ctr,\n",
    "                group_2.smoothed_ctr,\n",
    "                equal_var=False)"
   ]
  },
  {
   "cell_type": "markdown",
   "id": "07963524-bff5-47fe-9b7a-99a69ed54c2d",
   "metadata": {},
   "source": [
    "На сглаженных данных также низкое значение pvalue, следовательно выборки различны между собой"
   ]
  },
  {
   "cell_type": "markdown",
   "id": "9b241b91-a1fd-4a14-87bc-da5c98579494",
   "metadata": {},
   "source": [
    "## Пуассоновский бутстреп для подсчета разницы в CTR"
   ]
  },
  {
   "cell_type": "code",
   "execution_count": 22,
   "id": "3463fcf6-b1f7-4cd7-987d-4d00d1f36027",
   "metadata": {},
   "outputs": [],
   "source": [
    "# создание функции для расчета глобальных CTR \n",
    "def bootstrap(likes1, views1, likes2, views2, n_bootstrap=2000):\n",
    "\n",
    "    poisson_bootstraps1 = stats.poisson(1).rvs(\n",
    "        (n_bootstrap, len(likes1))).astype(np.int64)\n",
    "    poisson_bootstraps2 = stats.poisson(1).rvs(\n",
    "            (n_bootstrap, len(likes2))).astype(np.int64)\n",
    "    \n",
    "    globalCTR1 = (poisson_bootstraps1*likes1).sum(axis=1)/(poisson_bootstraps1*views1).sum(axis=1)\n",
    "    \n",
    "    globalCTR2 = (poisson_bootstraps2*likes2).sum(axis=1)/(poisson_bootstraps2*views2).sum(axis=1)\n",
    "\n",
    "    return globalCTR1, globalCTR2"
   ]
  },
  {
   "cell_type": "code",
   "execution_count": 23,
   "id": "aa880846-d4e4-46cf-b2b8-834a0eb5bef6",
   "metadata": {},
   "outputs": [],
   "source": [
    "# сбор необходимой для расчетов информации\n",
    "likes_1 = df[df.exp_group == 1].likes.to_numpy()\n",
    "views_1 = df[df.exp_group == 1].views.to_numpy()\n",
    "likes_2 = df[df.exp_group == 2].likes.to_numpy()\n",
    "views_2 = df[df.exp_group == 2].views.to_numpy()"
   ]
  },
  {
   "cell_type": "code",
   "execution_count": 24,
   "id": "69658c9d-eb8d-4d03-ad57-ab124f537ca9",
   "metadata": {},
   "outputs": [],
   "source": [
    "# подсчет глобальные CTR для двух групп\n",
    "ctr_1, ctr_2 = bootstrap(likes_1, views_1, likes_2, views_2)"
   ]
  },
  {
   "cell_type": "code",
   "execution_count": 25,
   "id": "5ef8d030-2bc6-4525-a9c7-553516242919",
   "metadata": {},
   "outputs": [
    {
     "data": {
      "image/png": "[encoded data removed]",
      "text/plain": [
       "<Figure size 432x288 with 1 Axes>"
      ]
     },
     "metadata": {
      "needs_background": "light"
     },
     "output_type": "display_data"
    }
   ],
   "source": [
    "# построение гистограммы распределения для двух глобальных CTR\n",
    "sns.histplot(ctr_1, alpha=0.5, color='b');\n",
    "sns.histplot(ctr_2, alpha=0.5, color='r');\n",
    "plt.legend(['ctr_1', 'ctr_2'])\n",
    "plt.title('Распределения для двух глобальных CTR');"
   ]
  },
  {
   "cell_type": "markdown",
   "id": "814c9b49-606c-4538-9ec0-707296017a52",
   "metadata": {},
   "source": [
    "На графиках видно, что показатели глобальных CTR не пересекаются. Можно говорить о том, что в одной из групп глобальный CTR больше, чем в другой"
   ]
  },
  {
   "cell_type": "code",
   "execution_count": 26,
   "id": "fbee1d98-1d5d-41e6-8b7c-fc23ed5228fc",
   "metadata": {},
   "outputs": [
    {
     "data": {
      "image/png": "[encoded data removed]",
      "text/plain": [
       "<Figure size 432x288 with 1 Axes>"
      ]
     },
     "metadata": {
      "needs_background": "light"
     },
     "output_type": "display_data"
    }
   ],
   "source": [
    "# разница между двумя глобальными CTR (целевая минус контрольная)\n",
    "sns.histplot(ctr_2 - ctr_1);\n",
    "plt.title('Разница между двумя глобальными CTR');"
   ]
  },
  {
   "cell_type": "code",
   "execution_count": 27,
   "id": "b661e227-93da-4151-acbd-fdee0e59e53f",
   "metadata": {},
   "outputs": [
    {
     "data": {
      "text/plain": [
       "MannwhitneyuResult(statistic=4000000.0, pvalue=0.0)"
      ]
     },
     "execution_count": 27,
     "metadata": {},
     "output_type": "execute_result"
    }
   ],
   "source": [
    "# тест Манна-Уитни\n",
    "stats.mannwhitneyu(ctr_1,\n",
    "                   ctr_2,\n",
    "                 alternative = 'two-sided')"
   ]
  },
  {
   "cell_type": "markdown",
   "id": "f1ae4951-5b2e-4f9d-a83f-79a554799d7d",
   "metadata": {},
   "source": [
    "Значение p-value=0, это подверждает, что распределения не пересекаются. В одной из групп глобальный CTR больше, чем в другой.\n",
    "\n",
    "Разница между глобальными CTR двух групп отрицательная, следовательно контрольная группа показала себя лучше (ctr_1)"
   ]
  },
  {
   "cell_type": "markdown",
   "id": "aa0b959c-d64d-4d0f-bcb6-80eddbfe51ba",
   "metadata": {},
   "source": [
    "## Бакетное преобразование"
   ]
  },
  {
   "cell_type": "code",
   "execution_count": 28,
   "id": "6e007023-76d0-445c-8d16-8bbe69be7256",
   "metadata": {},
   "outputs": [],
   "source": [
    "# создаем запрос \n",
    "query = \"\"\"\n",
    "\n",
    "SELECT exp_group, bucket,\n",
    "    sum(likes)/sum(views) as bucket_ctr,\n",
    "    quantileExact(0.9)(ctr) as ctr9\n",
    "FROM (SELECT exp_group, \n",
    "        xxHash64(user_id)%50 as bucket,\n",
    "        user_id,\n",
    "        sum(action = 'like') as likes,\n",
    "        sum(action = 'view') as views,\n",
    "        likes/views as ctr\n",
    "    FROM {db}.feed_actions \n",
    "    WHERE toDate(time) between '2023-02-23' and '2023-03-01'\n",
    "        and exp_group in (1,2)\n",
    "    GROUP BY exp_group, bucket, user_id)\n",
    "GROUP BY exp_group, bucket\n",
    "\"\"\"\n",
    "\n",
    "df_bucket = ph.read_clickhouse(query, connection=connection)"
   ]
  },
  {
   "cell_type": "code",
   "execution_count": 29,
   "id": "99b2d6a5-5206-41aa-8867-df819f996413",
   "metadata": {},
   "outputs": [
    {
     "data": {
      "text/html": [
       "<div>\n",
       "<style scoped>\n",
       "    .dataframe tbody tr th:only-of-type {\n",
       "        vertical-align: middle;\n",
       "    }\n",
       "\n",
       "    .dataframe tbody tr th {\n",
       "        vertical-align: top;\n",
       "    }\n",
       "\n",
       "    .dataframe thead th {\n",
       "        text-align: right;\n",
       "    }\n",
       "</style>\n",
       "<table border=\"1\" class=\"dataframe\">\n",
       "  <thead>\n",
       "    <tr style=\"text-align: right;\">\n",
       "      <th></th>\n",
       "      <th>exp_group</th>\n",
       "      <th>bucket</th>\n",
       "      <th>bucket_ctr</th>\n",
       "      <th>ctr9</th>\n",
       "    </tr>\n",
       "  </thead>\n",
       "  <tbody>\n",
       "    <tr>\n",
       "      <th>0</th>\n",
       "      <td>1</td>\n",
       "      <td>0</td>\n",
       "      <td>0.205796</td>\n",
       "      <td>0.320000</td>\n",
       "    </tr>\n",
       "    <tr>\n",
       "      <th>1</th>\n",
       "      <td>2</td>\n",
       "      <td>0</td>\n",
       "      <td>0.213679</td>\n",
       "      <td>0.333333</td>\n",
       "    </tr>\n",
       "    <tr>\n",
       "      <th>2</th>\n",
       "      <td>1</td>\n",
       "      <td>1</td>\n",
       "      <td>0.211543</td>\n",
       "      <td>0.306818</td>\n",
       "    </tr>\n",
       "    <tr>\n",
       "      <th>3</th>\n",
       "      <td>2</td>\n",
       "      <td>1</td>\n",
       "      <td>0.206881</td>\n",
       "      <td>0.336957</td>\n",
       "    </tr>\n",
       "    <tr>\n",
       "      <th>4</th>\n",
       "      <td>1</td>\n",
       "      <td>2</td>\n",
       "      <td>0.205496</td>\n",
       "      <td>0.296703</td>\n",
       "    </tr>\n",
       "  </tbody>\n",
       "</table>\n",
       "</div>"
      ],
      "text/plain": [
       "   exp_group  bucket  bucket_ctr      ctr9\n",
       "0          1       0    0.205796  0.320000\n",
       "1          2       0    0.213679  0.333333\n",
       "2          1       1    0.211543  0.306818\n",
       "3          2       1    0.206881  0.336957\n",
       "4          1       2    0.205496  0.296703"
      ]
     },
     "execution_count": 29,
     "metadata": {},
     "output_type": "execute_result"
    }
   ],
   "source": [
    "df_bucket.head()"
   ]
  },
  {
   "cell_type": "code",
   "execution_count": 30,
   "id": "71d6e73e-b9e4-431b-991f-4d85422c42b4",
   "metadata": {},
   "outputs": [
    {
     "data": {
      "text/plain": [
       "Ttest_indResult(statistic=-2.249431215012112, pvalue=0.026727457897151256)"
      ]
     },
     "execution_count": 30,
     "metadata": {},
     "output_type": "execute_result"
    }
   ],
   "source": [
    "# проведение t-теста\n",
    "stats.ttest_ind(df_bucket[df_bucket.exp_group == 1].bucket_ctr, \n",
    "                   df_bucket[df_bucket.exp_group == 2].bucket_ctr, \n",
    "                   equal_var = False)"
   ]
  },
  {
   "cell_type": "markdown",
   "id": "1ef9257a-e9e7-4bc5-bf54-d125ca662fbe",
   "metadata": {},
   "source": [
    " Т-тест поверх бакетного преобразования показал pvalue < 0.05, то есть группы отличные между собой"
   ]
  },
  {
   "cell_type": "code",
   "execution_count": 31,
   "id": "d733023b-4d4b-4cfb-ae4e-0dc0ddf0faf9",
   "metadata": {},
   "outputs": [
    {
     "data": {
      "text/plain": [
       "MannwhitneyuResult(statistic=950.0, pvalue=0.0389514842806052)"
      ]
     },
     "execution_count": 31,
     "metadata": {},
     "output_type": "execute_result"
    }
   ],
   "source": [
    "# тест Манна-Уитни\n",
    "stats.mannwhitneyu(df_bucket[df_bucket.exp_group == 1].bucket_ctr, \n",
    "                   df_bucket[df_bucket.exp_group == 2].bucket_ctr, \n",
    "                   alternative = 'two-sided')"
   ]
  },
  {
   "cell_type": "markdown",
   "id": "d3bd6c11-9048-47f5-9cdb-0a0e3943e804",
   "metadata": {},
   "source": [
    "Результаты теста Манна-Уитни также < 0.05"
   ]
  },
  {
   "cell_type": "code",
   "execution_count": 32,
   "id": "5a0a65a4-44a2-4f2f-aee6-5c79a5efcba0",
   "metadata": {},
   "outputs": [
    {
     "data": {
      "image/png": "[encoded data removed]",
      "text/plain": [
       "<Figure size 432x288 with 1 Axes>"
      ]
     },
     "metadata": {
      "needs_background": "light"
     },
     "output_type": "display_data"
    }
   ],
   "source": [
    "sns.histplot(df_bucket[df_bucket.exp_group == 1].bucket_ctr, color= 'r', alpha = 0.5);\n",
    "sns.histplot(df_bucket[df_bucket.exp_group == 2].bucket_ctr, color= 'b', alpha = 0.2);\n",
    "plt.legend(['ctr_1', 'ctr_2'])\n",
    "plt.title('Распределения бакетного CTR');"
   ]
  },
  {
   "cell_type": "code",
   "execution_count": 33,
   "id": "19aaec18-79b6-4965-ad4b-09efcf7837e7",
   "metadata": {},
   "outputs": [
    {
     "data": {
      "image/png": "[encoded data removed]",
      "text/plain": [
       "<Figure size 432x288 with 1 Axes>"
      ]
     },
     "metadata": {
      "needs_background": "light"
     },
     "output_type": "display_data"
    }
   ],
   "source": [
    "sns.histplot(df_bucket[df_bucket.exp_group == 2].ctr9);\n",
    "plt.title('Распределения 90%-го квантиля');"
   ]
  },
  {
   "cell_type": "markdown",
   "id": "0429020b-4e31-4585-8689-11db198ccb99",
   "metadata": {},
   "source": [
    "Распределение не похож на нормальное"
   ]
  },
  {
   "cell_type": "markdown",
   "id": "ed8a3903-f6cf-46ad-9367-08f6e46c63df",
   "metadata": {},
   "source": [
    "## Вывод"
   ]
  },
  {
   "cell_type": "markdown",
   "id": "d55ac536-e6a1-454b-9804-6128f77bde95",
   "metadata": {},
   "source": [
    "Таким образом, по результатам тестов можно сделать вывод о разнице CTR между контрольной и экспериментальной группами.\n",
    "\n",
    "Распределение CTR контрольной группы нормальное, а для эксперементальной группы имеет 2 вершины (ненормальное распределение). \n",
    "\n",
    "Данные контрольной группы показали лучший результат. Это может быть связано с проведением рекламных кампаний, изменяющих поведение рекомендаций пользователей, также возможно, что информация собиратлась не верно, исказив тем самым результаты эксперимента, либо алгоритм рекомендаций имеет недоработки.\n",
    "\n",
    "Следовательно, результат эксперимента нельзя назвать удовлетворительным и применять данный алгоритм рекомендаций на всех пользователей нецелесообразно. "
   ]
  },
  {
   "cell_type": "code",
   "execution_count": null,
   "id": "df50602b-9e58-4054-bede-304097f25879",
   "metadata": {},
   "outputs": [],
   "source": []
  }
 ],
 "metadata": {
  "kernelspec": {
   "display_name": "Python 3 (ipykernel)",
   "language": "python",
   "name": "python3"
  },
  "language_info": {
   "codemirror_mode": {
    "name": "ipython",
    "version": 3
   },
   "file_extension": ".py",
   "mimetype": "text/x-python",
   "name": "python",
   "nbconvert_exporter": "python",
   "pygments_lexer": "ipython3",
   "version": "3.8.10"
  }
 },
 "nbformat": 4,
 "nbformat_minor": 5
}
