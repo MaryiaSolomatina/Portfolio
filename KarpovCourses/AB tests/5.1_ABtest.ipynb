{
 "cells": [
  {
   "cell_type": "markdown",
   "id": "70fd66f2-82b6-4b3e-885e-8a747f774121",
   "metadata": {},
   "source": [
    "# 5.1 AB test"
   ]
  },
  {
   "cell_type": "markdown",
   "id": "eb3408c3-54db-4351-acae-148bee5b196d",
   "metadata": {},
   "source": [
    "Предоставлены данные АА-теста с '2023-02-23' по '2023-03-01'. Необходимо сделать симуляцию, как будто проведены 10 000 АА-тестов. На каждой итерации необходимо сформировать подвыборки без повторения в 500 юзеров из 2 и 3 экспериментальной группы. Провести сравнение этих подвыборок t-testом.\n",
    "\n",
    "1. Построить гистограмму распределения получившихся 10000 p-values.\n",
    "\n",
    "2. Посчитать, какой процент p values оказался меньше либо равен 0.05\n",
    "\n",
    "3. Написать вывод по проведенному АА-тесту, корректно ли работает наша система сплитования."
   ]
  },
  {
   "cell_type": "markdown",
   "id": "4828e71b-5b0b-4c12-a958-463518e467ae",
   "metadata": {},
   "source": [
    "## Загрузка данных"
   ]
  },
  {
   "cell_type": "code",
   "execution_count": 1,
   "id": "842d657e-8a45-4f23-a38a-4dcdc21b57df",
   "metadata": {},
   "outputs": [],
   "source": [
    "import pandas as pd\n",
    "import pandahouse as ph\n",
    "import seaborn as sns\n",
    "import numpy as np\n",
    "import scipy.stats as stats"
   ]
  },
  {
   "cell_type": "code",
   "execution_count": 2,
   "id": "be178e96-a60e-4846-b7f7-ca16c28029cf",
   "metadata": {},
   "outputs": [],
   "source": [
    "connection = {\n",
    "    'host': 'https://clickhouse.lab.karpov.courses',\n",
    "    'password': 'dpo_python_2020',\n",
    "    'user': 'student',\n",
    "    'database': 'simulator_20230320'\n",
    "}\n",
    "\n",
    "query = \"\"\"\n",
    "SELECT \n",
    "    user_id,\n",
    "    countIf(user_id, action = 'view') AS views,\n",
    "    countIf(user_id, action = 'like') AS likes,\n",
    "    exp_group,\n",
    "    likes / views AS ctr\n",
    "FROM\n",
    "    {db}.feed_actions\n",
    "WHERE toDate(time) BETWEEN '2023-02-23' AND '2023-03-01'\n",
    "  AND exp_group in (2, 3)\n",
    "GROUP BY user_id, exp_group \n",
    "\"\"\"\n",
    "\n",
    "# сохранение данных в df\n",
    "df = ph.read_clickhouse(query, connection=connection)  "
   ]
  },
  {
   "cell_type": "code",
   "execution_count": 3,
   "id": "cb8762ce-02d3-4e99-86ac-a76bfd002181",
   "metadata": {},
   "outputs": [
    {
     "data": {
      "text/html": [
       "<div>\n",
       "<style scoped>\n",
       "    .dataframe tbody tr th:only-of-type {\n",
       "        vertical-align: middle;\n",
       "    }\n",
       "\n",
       "    .dataframe tbody tr th {\n",
       "        vertical-align: top;\n",
       "    }\n",
       "\n",
       "    .dataframe thead th {\n",
       "        text-align: right;\n",
       "    }\n",
       "</style>\n",
       "<table border=\"1\" class=\"dataframe\">\n",
       "  <thead>\n",
       "    <tr style=\"text-align: right;\">\n",
       "      <th></th>\n",
       "      <th>user_id</th>\n",
       "      <th>views</th>\n",
       "      <th>likes</th>\n",
       "      <th>exp_group</th>\n",
       "      <th>ctr</th>\n",
       "    </tr>\n",
       "  </thead>\n",
       "  <tbody>\n",
       "    <tr>\n",
       "      <th>0</th>\n",
       "      <td>115383</td>\n",
       "      <td>36</td>\n",
       "      <td>11</td>\n",
       "      <td>3</td>\n",
       "      <td>0.305556</td>\n",
       "    </tr>\n",
       "    <tr>\n",
       "      <th>1</th>\n",
       "      <td>123580</td>\n",
       "      <td>92</td>\n",
       "      <td>15</td>\n",
       "      <td>3</td>\n",
       "      <td>0.163043</td>\n",
       "    </tr>\n",
       "    <tr>\n",
       "      <th>2</th>\n",
       "      <td>131473</td>\n",
       "      <td>148</td>\n",
       "      <td>26</td>\n",
       "      <td>2</td>\n",
       "      <td>0.175676</td>\n",
       "    </tr>\n",
       "    <tr>\n",
       "      <th>3</th>\n",
       "      <td>23985</td>\n",
       "      <td>66</td>\n",
       "      <td>12</td>\n",
       "      <td>2</td>\n",
       "      <td>0.181818</td>\n",
       "    </tr>\n",
       "    <tr>\n",
       "      <th>4</th>\n",
       "      <td>24523</td>\n",
       "      <td>120</td>\n",
       "      <td>17</td>\n",
       "      <td>2</td>\n",
       "      <td>0.141667</td>\n",
       "    </tr>\n",
       "  </tbody>\n",
       "</table>\n",
       "</div>"
      ],
      "text/plain": [
       "   user_id  views  likes  exp_group       ctr\n",
       "0   115383     36     11          3  0.305556\n",
       "1   123580     92     15          3  0.163043\n",
       "2   131473    148     26          2  0.175676\n",
       "3    23985     66     12          2  0.181818\n",
       "4    24523    120     17          2  0.141667"
      ]
     },
     "execution_count": 3,
     "metadata": {},
     "output_type": "execute_result"
    }
   ],
   "source": [
    "# просмотр df\n",
    "df.head()"
   ]
  },
  {
   "cell_type": "code",
   "execution_count": 4,
   "id": "9810476f-2a22-4308-a018-d0953801feff",
   "metadata": {},
   "outputs": [
    {
     "name": "stdout",
     "output_type": "stream",
     "text": [
      "<class 'pandas.core.frame.DataFrame'>\n",
      "RangeIndex: 17049 entries, 0 to 17048\n",
      "Data columns (total 5 columns):\n",
      " #   Column     Non-Null Count  Dtype  \n",
      "---  ------     --------------  -----  \n",
      " 0   user_id    17049 non-null  uint32 \n",
      " 1   views      17049 non-null  uint64 \n",
      " 2   likes      17049 non-null  uint64 \n",
      " 3   exp_group  17049 non-null  int8   \n",
      " 4   ctr        17049 non-null  float64\n",
      "dtypes: float64(1), int8(1), uint32(1), uint64(2)\n",
      "memory usage: 483.0 KB\n"
     ]
    }
   ],
   "source": [
    "# основная информация о df\n",
    "df.info()"
   ]
  },
  {
   "cell_type": "code",
   "execution_count": 5,
   "id": "7ba02255-4025-4285-b79e-cefb7e84b70f",
   "metadata": {},
   "outputs": [
    {
     "data": {
      "text/html": [
       "<div>\n",
       "<style scoped>\n",
       "    .dataframe tbody tr th:only-of-type {\n",
       "        vertical-align: middle;\n",
       "    }\n",
       "\n",
       "    .dataframe tbody tr th {\n",
       "        vertical-align: top;\n",
       "    }\n",
       "\n",
       "    .dataframe thead th {\n",
       "        text-align: right;\n",
       "    }\n",
       "</style>\n",
       "<table border=\"1\" class=\"dataframe\">\n",
       "  <thead>\n",
       "    <tr style=\"text-align: right;\">\n",
       "      <th></th>\n",
       "      <th>user_id</th>\n",
       "      <th>views</th>\n",
       "      <th>likes</th>\n",
       "      <th>ctr</th>\n",
       "    </tr>\n",
       "    <tr>\n",
       "      <th>exp_group</th>\n",
       "      <th></th>\n",
       "      <th></th>\n",
       "      <th></th>\n",
       "      <th></th>\n",
       "    </tr>\n",
       "  </thead>\n",
       "  <tbody>\n",
       "    <tr>\n",
       "      <th>2</th>\n",
       "      <td>8480</td>\n",
       "      <td>8480</td>\n",
       "      <td>8480</td>\n",
       "      <td>8480</td>\n",
       "    </tr>\n",
       "    <tr>\n",
       "      <th>3</th>\n",
       "      <td>8569</td>\n",
       "      <td>8569</td>\n",
       "      <td>8569</td>\n",
       "      <td>8569</td>\n",
       "    </tr>\n",
       "  </tbody>\n",
       "</table>\n",
       "</div>"
      ],
      "text/plain": [
       "           user_id  views  likes   ctr\n",
       "exp_group                             \n",
       "2             8480   8480   8480  8480\n",
       "3             8569   8569   8569  8569"
      ]
     },
     "execution_count": 5,
     "metadata": {},
     "output_type": "execute_result"
    }
   ],
   "source": [
    "# проверка распределения количества пользователей в группах\n",
    "df.groupby('exp_group').count()"
   ]
  },
  {
   "cell_type": "markdown",
   "id": "7e4e7d7b-b7ec-4db8-8051-cf0e40cc2c67",
   "metadata": {},
   "source": [
    "Количество пользователей в группе 2 = 8 480 чел., в группе 3 = 8 569 чел."
   ]
  },
  {
   "cell_type": "markdown",
   "id": "7bc99c72-e721-45b2-afdb-32ca42cb4c3d",
   "metadata": {},
   "source": [
    "## Распределение CTR групп на графике"
   ]
  },
  {
   "cell_type": "code",
   "execution_count": 6,
   "id": "31d88fbc-1f68-4dd9-88c9-1049a4cfe895",
   "metadata": {},
   "outputs": [
    {
     "data": {
      "image/png": "[encoded data removed]",
      "text/plain": [
       "<Figure size 626.4x379.44 with 1 Axes>"
      ]
     },
     "metadata": {},
     "output_type": "display_data"
    }
   ],
   "source": [
    "# график распределения групп в seaborn \n",
    "sns.set(rc={'figure.figsize':(8.7,5.27)})\n",
    "\n",
    "groups = sns.histplot(data = df, \n",
    "              x='ctr', \n",
    "              hue='exp_group', \n",
    "              palette = ['r', 'b'],\n",
    "              alpha=0.5,\n",
    "              kde=False) "
   ]
  },
  {
   "cell_type": "markdown",
   "id": "a0d0fe0b-b76b-464b-b5a1-6077d5c45748",
   "metadata": {},
   "source": [
    "На графике видно, что CTR групп распределен нормально. однако необходимо проверить это на тестах"
   ]
  },
  {
   "cell_type": "markdown",
   "id": "e4b4809c-fd8e-4114-bceb-5f0d8fa47855",
   "metadata": {},
   "source": [
    "## Проведение АА теста"
   ]
  },
  {
   "cell_type": "code",
   "execution_count": 7,
   "id": "d699f34d-0b71-4486-9b86-85305d13a84b",
   "metadata": {},
   "outputs": [
    {
     "data": {
      "text/plain": [
       "Ttest_indResult(statistic=-0.7393597924958364, pvalue=0.45969873156476293)"
      ]
     },
     "execution_count": 7,
     "metadata": {},
     "output_type": "execute_result"
    }
   ],
   "source": [
    "# t-тест на всех данных\n",
    "stats.ttest_ind(df[df.exp_group == 2].ctr,\n",
    "                df[df.exp_group == 3].ctr,\n",
    "                equal_var=False)"
   ]
  },
  {
   "cell_type": "code",
   "execution_count": 8,
   "id": "820c5d89-9efa-4d59-8fee-a2c0e26a36ec",
   "metadata": {},
   "outputs": [],
   "source": [
    "# проведение 10 000 экспериментов на случайных наборах из 500 юзеров на тестовых группах 2 и 3 \n",
    "\n",
    "# создание массива для хранения результатов\n",
    "p_values = []\n",
    "\n",
    "# запуск симуляции 10000 АА-тестов\n",
    "for i in range(10000):\n",
    "    # отбор случайных 500 юзеров из 2 и 3 группы, без повторений\n",
    "    group2 = df[df.exp_group == 2].sample(n=500, replace=False)\n",
    "    group3 = df[df.exp_group == 3].sample(n=500, replace=False)\n",
    "    \n",
    "    # объединение двух выборок в одну\n",
    "    sample = pd.concat([group2, group3], axis=0)\n",
    "    \n",
    "    # проведение t-test\n",
    "    t_stat, p_val = stats.ttest_ind(sample[sample.exp_group == 2].ctr,\n",
    "                              sample[sample.exp_group == 3].ctr,\n",
    "                              equal_var=False)\n",
    "    \n",
    "    # сохранение p-value в массив\n",
    "    p_values.append(p_val)"
   ]
  },
  {
   "cell_type": "code",
   "execution_count": 9,
   "id": "020e5b7e-4e8a-4664-9ab8-ec408a39728f",
   "metadata": {},
   "outputs": [
    {
     "data": {
      "text/html": [
       "<div>\n",
       "<style scoped>\n",
       "    .dataframe tbody tr th:only-of-type {\n",
       "        vertical-align: middle;\n",
       "    }\n",
       "\n",
       "    .dataframe tbody tr th {\n",
       "        vertical-align: top;\n",
       "    }\n",
       "\n",
       "    .dataframe thead th {\n",
       "        text-align: right;\n",
       "    }\n",
       "</style>\n",
       "<table border=\"1\" class=\"dataframe\">\n",
       "  <thead>\n",
       "    <tr style=\"text-align: right;\">\n",
       "      <th></th>\n",
       "      <th>user_id</th>\n",
       "      <th>views</th>\n",
       "      <th>likes</th>\n",
       "      <th>ctr</th>\n",
       "    </tr>\n",
       "    <tr>\n",
       "      <th>exp_group</th>\n",
       "      <th></th>\n",
       "      <th></th>\n",
       "      <th></th>\n",
       "      <th></th>\n",
       "    </tr>\n",
       "  </thead>\n",
       "  <tbody>\n",
       "    <tr>\n",
       "      <th>2</th>\n",
       "      <td>500</td>\n",
       "      <td>500</td>\n",
       "      <td>500</td>\n",
       "      <td>500</td>\n",
       "    </tr>\n",
       "    <tr>\n",
       "      <th>3</th>\n",
       "      <td>500</td>\n",
       "      <td>500</td>\n",
       "      <td>500</td>\n",
       "      <td>500</td>\n",
       "    </tr>\n",
       "  </tbody>\n",
       "</table>\n",
       "</div>"
      ],
      "text/plain": [
       "           user_id  views  likes  ctr\n",
       "exp_group                            \n",
       "2              500    500    500  500\n",
       "3              500    500    500  500"
      ]
     },
     "execution_count": 9,
     "metadata": {},
     "output_type": "execute_result"
    }
   ],
   "source": [
    "# проверка правильности работы системы сплитования выборки на 500 юзеров\n",
    "sample.groupby('exp_group').count()"
   ]
  },
  {
   "cell_type": "code",
   "execution_count": 10,
   "id": "551f02aa-dc52-4de7-8e87-6cdb1825baf2",
   "metadata": {},
   "outputs": [
    {
     "data": {
      "image/png": "[encoded data removed]",
      "text/plain": [
       "<Figure size 626.4x379.44 with 1 Axes>"
      ]
     },
     "metadata": {},
     "output_type": "display_data"
    }
   ],
   "source": [
    "# построение гистограммы распределения p-values\n",
    "sns.histplot(p_values, kde= True).set(title='Распределение p-values 10 000 экспериментов', xlabel='P-value', ylabel = 'Количество значений');"
   ]
  },
  {
   "cell_type": "markdown",
   "id": "39211f45-c3ce-40a6-bcc7-b4ac06dc5a19",
   "metadata": {},
   "source": [
    "Распределение результатов теста получилось равномерным"
   ]
  },
  {
   "cell_type": "code",
   "execution_count": 11,
   "id": "7feb225c-0599-4e93-b9c8-f52e4dbad606",
   "metadata": {},
   "outputs": [
    {
     "name": "stdout",
     "output_type": "stream",
     "text": [
      "4.79% значений p-values <= 0.05\n"
     ]
    }
   ],
   "source": [
    "# расчет процента p-values, оказавшихся меньше или равными 0.05 по результатам эксперимента\n",
    "p_val_005 = round ((sum(x<=0.05 for x in p_values) / len(p_values))*100, 2)\n",
    "print(f'{p_val_005}% значений p-values <= 0.05')"
   ]
  },
  {
   "cell_type": "markdown",
   "id": "3e0f5069-63b4-4f32-801d-c61ce410d7a6",
   "metadata": {},
   "source": [
    "**Вывод по проведенному АА тесту:**\n",
    "\n",
    "На основании полученного значения делаем вывод, что только в приблизительно 5% случаев удалось отклонить нулевую гиппотезу (т.е. при которой ключевые метрки в двух выборках равны). Следовательно наша система сплитования работает корректно."
   ]
  }
 ],
 "metadata": {
  "kernelspec": {
   "display_name": "Python 3 (ipykernel)",
   "language": "python",
   "name": "python3"
  },
  "language_info": {
   "codemirror_mode": {
    "name": "ipython",
    "version": 3
   },
   "file_extension": ".py",
   "mimetype": "text/x-python",
   "name": "python",
   "nbconvert_exporter": "python",
   "pygments_lexer": "ipython3",
   "version": "3.8.10"
  }
 },
 "nbformat": 4,
 "nbformat_minor": 5
}
